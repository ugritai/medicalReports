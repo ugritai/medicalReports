{
 "cells": [
  {
   "cell_type": "markdown",
   "id": "8cbecc3f",
   "metadata": {},
   "source": [
    "# Pruebas gemma"
   ]
  },
  {
   "cell_type": "code",
   "execution_count": 1,
   "id": "a7d89284",
   "metadata": {},
   "outputs": [],
   "source": [
    "import pandas as pd"
   ]
  },
  {
   "cell_type": "markdown",
   "id": "e9afe5db",
   "metadata": {},
   "source": [
    "## Calidad de generación del texto: BLEU"
   ]
  },
  {
   "cell_type": "code",
<<<<<<< HEAD
   "execution_count": 2,
=======
   "execution_count": 4,
>>>>>>> 951cdb3d21a1844a48b11216f7612e34d40cc59b
   "id": "e0d3b255",
   "metadata": {},
   "outputs": [
    {
     "name": "stderr",
     "output_type": "stream",
     "text": [
      "/home/raulmartinez/.local/lib/python3.10/site-packages/tqdm/auto.py:21: TqdmWarning: IProgress not found. Please update jupyter and ipywidgets. See https://ipywidgets.readthedocs.io/en/stable/user_install.html\n",
      "  from .autonotebook import tqdm as notebook_tqdm\n"
     ]
    }
   ],
   "source": [
    "import evaluate"
   ]
  },
  {
   "cell_type": "code",
   "execution_count": 3,
<<<<<<< HEAD
   "id": "37c58ca7",
   "metadata": {},
   "outputs": [],
   "source": [
    "def calcular_bleu(df):\n",
    "    predictions = df[\"output\"]\n",
    "    references = df[\"input\"]\n",
    "    bleu = evaluate.load (\"bleu\")\n",
    "    results = bleu.compute (predictions = predictions, references = references)\n",
    "    print (results)"
=======
   "id": "6b6af25d",
   "metadata": {},
   "outputs": [],
   "source": [
    "df_gemma_sin_rol_1 = pd.read_csv(\"./analysis/gemma_sin_rol_1.csv\")"
>>>>>>> 951cdb3d21a1844a48b11216f7612e34d40cc59b
   ]
  },
  {
   "cell_type": "code",
   "execution_count": 5,
<<<<<<< HEAD
   "id": "6b6af25d",
   "metadata": {},
   "outputs": [
    {
     "name": "stdout",
     "output_type": "stream",
     "text": [
      "Gemma sin rol 1\n",
      "{'bleu': 2.5562811827773874e-07, 'precisions': [0.7607627572116554, 0.26030283726172393, 0.10263118921854174, 0.05803948873526633], 'brevity_penalty': 1.3793543596593262e-06, 'length_ratio': 0.06899456622062017, 'translation_length': 20557, 'reference_length': 297951}\n",
      "Gemma con rol 1\n",
      "{'bleu': 1.567980944699892e-07, 'precisions': [0.7672171555336456, 0.2557238639185498, 0.0955716787590693, 0.05142425006301991], 'brevity_penalty': 8.898034684187848e-07, 'length_ratio': 0.06696907570460316, 'translation_length': 20285, 'reference_length': 302901}\n",
      "Gemma sin rol 0.5\n",
      "{'bleu': 2.631053367949994e-07, 'precisions': [0.7497828814049986, 0.24305015552099535, 0.09125624204445315, 0.04961530873939633], 'brevity_penalty': 1.5523949872243844e-06, 'length_ratio': 0.06956177358021956, 'translation_length': 20726, 'reference_length': 297951}\n",
      "Gemma con rol 0.5\n",
      "{'bleu': 1.3917434414003416e-07, 'precisions': [0.7550899093475999, 0.2517342915606129, 0.09076280987579827, 0.04635962912296702], 'brevity_penalty': 8.275837422342733e-07, 'length_ratio': 0.06664553765091565, 'translation_length': 20187, 'reference_length': 302901}\n",
      "Gemma sin rol 0.1\n",
      "{'bleu': 2.496596887105965e-07, 'precisions': [0.756826353124089, 0.25078308535630384, 0.09653880287940045, 0.05458970792767733], 'brevity_penalty': 1.403852995218568e-06, 'length_ratio': 0.06907847263476209, 'translation_length': 20582, 'reference_length': 297951}\n",
      "Gemma con rol 0.1\n",
      "{'bleu': 1.5168168675076225e-07, 'precisions': [0.7617123996255973, 0.2490446175988883, 0.09010450522526127, 0.04740792987052245], 'brevity_penalty': 8.990145667363073e-07, 'length_ratio': 0.06701529542655851, 'translation_length': 20299, 'reference_length': 302901}\n"
=======
   "id": "ea5e6039",
   "metadata": {},
   "outputs": [
    {
     "name": "stderr",
     "output_type": "stream",
     "text": [
      "Downloading builder script: 100%|██████████| 5.94k/5.94k [00:00<00:00, 3.53MB/s]\n",
      "Downloading extra modules: 4.07kB [00:00, 2.70MB/s]                   \n",
      "Downloading extra modules: 100%|██████████| 3.34k/3.34k [00:00<00:00, 4.45MB/s]\n"
     ]
    },
    {
     "name": "stdout",
     "output_type": "stream",
     "text": [
      "{'bleu': 2.5562811827773874e-07, 'precisions': [0.7607627572116554, 0.26030283726172393, 0.10263118921854174, 0.05803948873526633], 'brevity_penalty': 1.3793543596593262e-06, 'length_ratio': 0.06899456622062017, 'translation_length': 20557, 'reference_length': 297951}\n"
>>>>>>> 951cdb3d21a1844a48b11216f7612e34d40cc59b
     ]
    }
   ],
   "source": [
<<<<<<< HEAD
    "df_gemma_sin_rol_1 = pd.read_csv(\"./analysis/gemma_sin_rol_1.csv\")\n",
    "df_gemma_con_rol_1 = pd.read_csv(\"./analysis/gemma_con_rol_1.csv\")\n",
    "df_gemma_sin_rol_0_5 = pd.read_csv(\"./analysis/gemma_sin_rol_0_5.csv\")\n",
    "df_gemma_con_rol_0_5 = pd.read_csv(\"./analysis/gemma_con_rol_0_5.csv\")\n",
    "df_gemma_sin_rol_0_1 = pd.read_csv(\"./analysis/gemma_sin_rol_0_1.csv\")\n",
    "df_gemma_con_rol_0_1 = pd.read_csv(\"./analysis/gemma_con_rol_0_1.csv\")\n",
    "\n",
    "print(\"Gemma sin rol 1\")\n",
    "calcular_bleu(df_gemma_sin_rol_1)\n",
    "print(\"Gemma con rol 1\")\n",
    "calcular_bleu(df_gemma_con_rol_1)\n",
    "print(\"Gemma sin rol 0.5\")\n",
    "calcular_bleu(df_gemma_sin_rol_0_5)\n",
    "print(\"Gemma con rol 0.5\")\n",
    "calcular_bleu(df_gemma_con_rol_0_5)\n",
    "print(\"Gemma sin rol 0.1\")\n",
    "calcular_bleu(df_gemma_sin_rol_0_1)\n",
    "print(\"Gemma con rol 0.1\")\n",
    "calcular_bleu(df_gemma_con_rol_0_1)"
=======
    "predictions = df_gemma_sin_rol_1[\"output\"]\n",
    "references = df_gemma_sin_rol_1[\"input\"]\n",
    "bleu = evaluate.load (\"bleu\")\n",
    "results = bleu.compute (predictions = predictions, references = references)\n",
    "print (results)"
>>>>>>> 951cdb3d21a1844a48b11216f7612e34d40cc59b
   ]
  },
  {
   "cell_type": "markdown",
   "id": "29088aaf",
   "metadata": {},
   "source": [
    "## Comparación entre pruebas con rol y sin rol a diferentes temperaturas"
   ]
  },
  {
   "cell_type": "code",
<<<<<<< HEAD
   "execution_count": 6,
=======
   "execution_count": 8,
>>>>>>> 951cdb3d21a1844a48b11216f7612e34d40cc59b
   "id": "86df9e2a",
   "metadata": {},
   "outputs": [],
   "source": [
    "from evaluate import load"
   ]
  },
  {
   "cell_type": "markdown",
   "id": "183e6e80",
   "metadata": {},
   "source": [
<<<<<<< HEAD
    "### Bert por defecto"
   ]
  },
  {
   "cell_type": "code",
   "execution_count": 28,
   "id": "c19bcdfe",
   "metadata": {},
   "outputs": [],
   "source": [
    "# Modelo Bert por defecto\n",
    "bertscore = load(\"bertscore\")\n",
    "\n",
    "import numpy as np"
   ]
  },
  {
   "cell_type": "code",
   "execution_count": 29,
   "id": "41e25b39",
   "metadata": {},
   "outputs": [],
   "source": [
    "def calcular_bertscore_defecto(df_sin_rol, df_con_rol):\n",
    "    predictions = df_sin_rol[\"output\"]\n",
    "    references = df_con_rol[\"output\"]\n",
    "    results = bertscore.compute(predictions=predictions, references=references, lang=\"en\", model_type=\"distilbert-base-uncased\")\n",
    "    print(\"Precision:\", sum(results[\"precision\"]) / len(results[\"precision\"]))\n",
    "    print(\"Recall:\", sum(results[\"recall\"]) / len(results[\"recall\"]))\n",
    "    print(\"F1:\", sum(results[\"f1\"]) / len(results[\"f1\"]))\n",
    "    df = pd.DataFrame({\n",
    "    \"precision\": [np.mean(results[\"precision\"])],\n",
    "    \"recall\": [np.mean(results[\"recall\"])],\n",
    "    \"f1\": [np.mean(results[\"f1\"])]\n",
    "})\n",
    "    return df"
=======
    "### Temperatura 1"
>>>>>>> 951cdb3d21a1844a48b11216f7612e34d40cc59b
   ]
  },
  {
   "cell_type": "code",
   "execution_count": 30,
<<<<<<< HEAD
=======
   "id": "a9d008b2",
   "metadata": {},
   "outputs": [],
   "source": [
    "import pandas as pd\n",
    "df_gemma_sin_rol_1 = pd.read_csv(\"./analysis/gemma_sin_rol_1.csv\")\n",
    "df_gemma_con_rol_1 = pd.read_csv(\"./analysis/gemma_con_rol_1.csv\")"
   ]
  },
  {
   "cell_type": "code",
   "execution_count": 31,
   "id": "c19bcdfe",
   "metadata": {},
   "outputs": [
    {
     "name": "stdout",
     "output_type": "stream",
     "text": [
      "{'precision': [0.9383707642555237, 0.8598304986953735, 0.9085214138031006, 0.9413047432899475, 0.8889155983924866, 0.9277694821357727, 0.8840334415435791, 0.9155179858207703, 0.8306592702865601, 0.9536327719688416, 0.8677495121955872, 0.9133790731430054, 0.9072524309158325, 0.8999879360198975, 0.8886889219284058, 0.934485673904419, 0.891629159450531, 0.9267480373382568, 0.8441130518913269, 0.8570826649665833, 0.9275715947151184, 0.9245724678039551, 0.9620532393455505, 0.941348671913147, 0.9597926735877991, 0.9564608931541443, 0.8591632843017578, 0.889038622379303, 0.8916703462600708, 0.9287835359573364, 0.8903886079788208, 0.938218891620636, 0.870918869972229, 0.9458876252174377, 0.8972534537315369, 0.8714582920074463, 0.8726286292076111, 0.8995402455329895, 0.8728288412094116, 0.8943368792533875, 0.9061204195022583, 0.8896529674530029, 0.9132497310638428, 0.9702653884887695, 0.8688648343086243, 0.9201713800430298, 0.9328885674476624, 0.8746415376663208, 0.8865129947662354, 0.8929110765457153, 0.8670631647109985, 0.9031391739845276, 0.91327303647995, 0.9561742544174194, 0.9384379982948303, 0.9308939576148987, 0.9035888314247131, 0.9350608587265015, 0.9253965616226196, 0.9051638841629028, 0.8960195183753967, 0.9693107604980469, 0.9788291454315186, 0.8932574987411499, 0.9440447092056274, 0.8640322089195251, 0.9180405139923096, 0.902834415435791, 0.8853867650032043, 0.8410742878913879, 0.8523337841033936, 0.899418830871582, 0.9099936485290527, 0.938349723815918, 0.9643842577934265, 0.8769580721855164, 0.8728763461112976, 0.8728359341621399, 0.8790254592895508, 0.9534130692481995, 0.9140009880065918, 0.8957374691963196, 0.8740986585617065, 0.9009308815002441, 0.898848295211792, 0.9124618768692017, 0.863097608089447, 0.9263705015182495, 0.8619419932365417, 0.8895724415779114, 0.9112428426742554, 0.8803699016571045, 0.9023359417915344, 0.9019569158554077, 0.9434410929679871, 0.8905415534973145, 0.9090144038200378, 0.8877348303794861, 0.8279070258140564, 0.908600389957428, 0.8931279182434082, 0.8909563422203064, 0.868545413017273, 0.9317821264266968, 0.9328031539916992, 0.8715741634368896, 0.8806184530258179, 0.891338050365448, 0.9001616835594177, 0.8859503865242004, 0.8521403074264526, 0.86744624376297, 0.8844674229621887, 0.8718209266662598, 0.9391536712646484, 0.9243104457855225, 0.8562921285629272, 0.858126699924469, 0.8618585467338562, 0.8923165798187256, 0.8965242505073547, 0.9130133390426636, 0.9665165543556213, 0.8349948525428772, 0.8729186058044434, 0.8911948204040527, 0.88409423828125, 0.880020797252655, 0.9002987742424011, 0.905268669128418, 0.9822761416435242, 0.8985651731491089, 0.8964130878448486, 0.9510501027107239, 0.9043062329292297, 0.9201053977012634, 0.8607051372528076, 0.8825930953025818, 0.8753081560134888, 0.9462798833847046, 0.8967836499214172, 0.8824499249458313, 0.938725471496582, 0.8839564919471741, 0.9098004102706909, 0.8496196269989014, 0.8647853136062622, 0.8310612440109253, 0.8506996631622314, 0.9387307167053223], 'recall': [0.942439615726471, 0.8839598298072815, 0.9054088592529297, 0.9404338598251343, 0.8804805278778076, 0.9148285984992981, 0.88370281457901, 0.9198431372642517, 0.8125069737434387, 0.9418606758117676, 0.8573238849639893, 0.9042647480964661, 0.9141380786895752, 0.8838781118392944, 0.8900051116943359, 0.9329382181167603, 0.9033023715019226, 0.9329847693443298, 0.8496659398078918, 0.8367822170257568, 0.9269489049911499, 0.8995401859283447, 0.9725751876831055, 0.9446569681167603, 0.9725236892700195, 0.9435587525367737, 0.8745575547218323, 0.8937422037124634, 0.9035550355911255, 0.9313187599182129, 0.89533931016922, 0.9430844783782959, 0.9113737940788269, 0.9272599816322327, 0.9007934927940369, 0.877790093421936, 0.9149781465530396, 0.9054091572761536, 0.8553264141082764, 0.9063094854354858, 0.908337414264679, 0.8682734370231628, 0.9114797711372375, 0.9676674008369446, 0.8888875842094421, 0.9115480184555054, 0.9488965272903442, 0.8861325979232788, 0.8746700286865234, 0.9076102375984192, 0.8875131607055664, 0.8958459496498108, 0.9104657173156738, 0.9570779800415039, 0.9521216750144958, 0.9299561381340027, 0.9000841379165649, 0.94304358959198, 0.9344671368598938, 0.9173564910888672, 0.8925164341926575, 0.9683476686477661, 0.9795776605606079, 0.8748526573181152, 0.9327675700187683, 0.9003909826278687, 0.9197719097137451, 0.9231894612312317, 0.8787434697151184, 0.8349700570106506, 0.8355409502983093, 0.9192596077919006, 0.8980689644813538, 0.9391611814498901, 0.9656996130943298, 0.8771745562553406, 0.8669885993003845, 0.9047420024871826, 0.8657084703445435, 0.95430588722229, 0.900439977645874, 0.8629342317581177, 0.8838589191436768, 0.9250467419624329, 0.9080847501754761, 0.934556245803833, 0.8872776627540588, 0.913409948348999, 0.8625459671020508, 0.8940635919570923, 0.9002512693405151, 0.8716248273849487, 0.9202694296836853, 0.9043803811073303, 0.9312059283256531, 0.8800482153892517, 0.8997296094894409, 0.8913972973823547, 0.8615796566009521, 0.8932839632034302, 0.8856430649757385, 0.8894199132919312, 0.8512880802154541, 0.9204884767532349, 0.9118337631225586, 0.842009425163269, 0.8920254707336426, 0.8858498334884644, 0.9125043749809265, 0.8791782855987549, 0.8357856273651123, 0.8548192381858826, 0.8970192670822144, 0.8412784934043884, 0.9488692283630371, 0.9073325991630554, 0.882379412651062, 0.8963093161582947, 0.8617279529571533, 0.9001685380935669, 0.8810522556304932, 0.9018505811691284, 0.9519113898277283, 0.8680095076560974, 0.8546303510665894, 0.8554571270942688, 0.882585883140564, 0.8849778771400452, 0.8552840948104858, 0.9002706408500671, 0.9860832691192627, 0.9055238366127014, 0.9156988263130188, 0.9435586929321289, 0.8978598117828369, 0.9090844392776489, 0.8980997204780579, 0.8530353307723999, 0.85148024559021, 0.9369473457336426, 0.9028922319412231, 0.8931518793106079, 0.9222504496574402, 0.8979465961456299, 0.9146360754966736, 0.8761224746704102, 0.8739120960235596, 0.8156577348709106, 0.8759969472885132, 0.924287736415863], 'f1': [0.9404008388519287, 0.8717281818389893, 0.9069624543190002, 0.9408690333366394, 0.8846780061721802, 0.9212536215782166, 0.8838680982589722, 0.9176754355430603, 0.8214828372001648, 0.9477100968360901, 0.8625051975250244, 0.9087990522384644, 0.9106822609901428, 0.89186030626297, 0.8893464803695679, 0.9337112903594971, 0.8974277973175049, 0.9298558831214905, 0.8468803763389587, 0.8468108177185059, 0.9272601008415222, 0.9118845462799072, 0.9672855734825134, 0.9429998993873596, 0.9661163091659546, 0.9499660134315491, 0.8667920827865601, 0.8913841843605042, 0.8975733518600464, 0.9300494194030762, 0.8928570747375488, 0.9406454563140869, 0.8906872272491455, 0.9364811778068542, 0.8990199565887451, 0.8746126890182495, 0.8933017253875732, 0.9024651646614075, 0.863988995552063, 0.9002833962440491, 0.9072275161743164, 0.8788331151008606, 0.9123639464378357, 0.968964695930481, 0.8787621855735779, 0.915839433670044, 0.9408244490623474, 0.8803495764732361, 0.8805516958236694, 0.900200605392456, 0.8771690130233765, 0.8994777798652649, 0.9118672013282776, 0.9566258788108826, 0.9452303647994995, 0.9304248094558716, 0.9018330574035645, 0.9390352368354797, 0.9299096465110779, 0.9112194180488586, 0.8942645192146301, 0.9688289761543274, 0.9792032837867737, 0.8839592933654785, 0.9383723139762878, 0.881837010383606, 0.9189054369926453, 0.9128985404968262, 0.8820526003837585, 0.8380110263824463, 0.843853771686554, 0.9092310070991516, 0.9039920568466187, 0.9387552738189697, 0.9650415182113647, 0.8770663142204285, 0.8699225187301636, 0.8885026574134827, 0.8723161220550537, 0.953859269618988, 0.9071698188781738, 0.8790298700332642, 0.8789517283439636, 0.912829577922821, 0.903442919254303, 0.9233769178390503, 0.8750206232070923, 0.9198446273803711, 0.8622438311576843, 0.8918123245239258, 0.9057137370109558, 0.8759755492210388, 0.9112144708633423, 0.9031670093536377, 0.9372835755348206, 0.8852637410163879, 0.9043481945991516, 0.8895623087882996, 0.8444077372550964, 0.900877058506012, 0.889369785785675, 0.8901875019073486, 0.8598302006721497, 0.9261008501052856, 0.9221992492675781, 0.8565367460250854, 0.8862852454185486, 0.8885855078697205, 0.9062910079956055, 0.8825513124465942, 0.8438836932182312, 0.8610864281654358, 0.8906990885734558, 0.8562774062156677, 0.9439864754676819, 0.915742814540863, 0.8691400289535522, 0.8768025636672974, 0.8617932200431824, 0.8962253332138062, 0.8887209296226501, 0.9073976278305054, 0.9591583609580994, 0.8511821627616882, 0.8636776804924011, 0.8729603886604309, 0.8833394646644592, 0.8824923634529114, 0.8772143721580505, 0.9027627110481262, 0.984175980091095, 0.9020310640335083, 0.9059533476829529, 0.9472895860671997, 0.9010715484619141, 0.9145617485046387, 0.879004955291748, 0.8675625324249268, 0.8632298111915588, 0.9415904879570007, 0.8998275399208069, 0.8877686262130737, 0.9304150342941284, 0.8908966183662415, 0.9122118353843689, 0.8626675605773926, 0.8693247437477112, 0.8232874274253845, 0.8631629943847656, 0.9314532279968262], 'hashcode': 'distilbert-base-uncased_L5_no-idf_version=0.3.12(hug_trans=4.52.4)'}\n"
     ]
    }
   ],
   "source": [
    "# Modelo Bert por defecto\n",
    "bertscore = load(\"bertscore\")\n",
    "predictions = df_gemma_sin_rol_1[\"output\"]\n",
    "references = df_gemma_con_rol_1[\"output\"]\n",
    "results = bertscore.compute(predictions=predictions, references=references, lang=\"en\", model_type=\"distilbert-base-uncased\")\n",
    "print(results)"
   ]
  },
  {
   "cell_type": "code",
   "execution_count": 36,
>>>>>>> 951cdb3d21a1844a48b11216f7612e34d40cc59b
   "id": "76ad2634",
   "metadata": {},
   "outputs": [
    {
     "name": "stdout",
     "output_type": "stream",
     "text": [
<<<<<<< HEAD
      "BertScore por defecto a temperatura 1\n",
      "Precision: 0.9005568917592367\n",
      "Recall: 0.9007785137494405\n",
      "F1: 0.9005949890613556\n",
      "BertScore por defecto a temperatura 0.5\n",
      "Precision: 0.8772079618771871\n",
      "Recall: 0.8757964762051901\n",
      "F1: 0.876428058942159\n",
      "BertScore por defecto a temperatura 0.1\n",
      "Precision: 0.8983016264438629\n",
      "Recall: 0.8984694230556488\n",
      "F1: 0.8983149083455404\n"
     ]
    },
    {
     "data": {
      "text/html": [
       "<div>\n",
       "<style scoped>\n",
       "    .dataframe tbody tr th:only-of-type {\n",
       "        vertical-align: middle;\n",
       "    }\n",
       "\n",
       "    .dataframe tbody tr th {\n",
       "        vertical-align: top;\n",
       "    }\n",
       "\n",
       "    .dataframe thead th {\n",
       "        text-align: right;\n",
       "    }\n",
       "</style>\n",
       "<table border=\"1\" class=\"dataframe\">\n",
       "  <thead>\n",
       "    <tr style=\"text-align: right;\">\n",
       "      <th></th>\n",
       "      <th>precision</th>\n",
       "      <th>recall</th>\n",
       "      <th>f1</th>\n",
       "    </tr>\n",
       "  </thead>\n",
       "  <tbody>\n",
       "    <tr>\n",
       "      <th>0</th>\n",
       "      <td>0.898302</td>\n",
       "      <td>0.898469</td>\n",
       "      <td>0.898315</td>\n",
       "    </tr>\n",
       "  </tbody>\n",
       "</table>\n",
       "</div>"
      ],
      "text/plain": [
       "   precision    recall        f1\n",
       "0   0.898302  0.898469  0.898315"
      ]
     },
     "execution_count": 30,
     "metadata": {},
     "output_type": "execute_result"
    }
   ],
   "source": [
    "print (\"BertScore por defecto a temperatura 1\")\n",
    "calcular_bertscore_defecto(df_gemma_sin_rol_1, df_gemma_con_rol_1)\n",
    "print (\"BertScore por defecto a temperatura 0.5\")\n",
    "calcular_bertscore_defecto(df_gemma_sin_rol_0_5, df_gemma_con_rol_0_5)\n",
    "print (\"BertScore por defecto a temperatura 0.1\")\n",
    "calcular_bertscore_defecto(df_gemma_sin_rol_0_1, df_gemma_con_rol_0_1)"
   ]
  },
  {
   "cell_type": "markdown",
   "id": "95853a9c",
   "metadata": {},
   "source": [
    "### Bert utilizando modelo Bio_ClinicalBERT"
   ]
  },
  {
   "cell_type": "code",
   "execution_count": 11,
   "id": "2dd93b00",
   "metadata": {},
   "outputs": [],
   "source": [
    "from bert_score import score"
   ]
  },
  {
   "cell_type": "code",
   "execution_count": 37,
   "id": "e3c234ff",
   "metadata": {},
   "outputs": [],
   "source": [
    "def calcular_bertscore_bioclinical(df_sin_rol, df_con_rol):\n",
    "    predictions = df_sin_rol[\"output\"].astype(str).tolist()\n",
    "    references = df_con_rol[\"output\"].astype(str).tolist()\n",
    "\n",
    "    P, R, F1 = score(predictions, references, lang=\"en\", num_layers=12, idf=False, model_type=\"emilyalsentzer/Bio_ClinicalBERT\")\n",
    "    print(f\"Precission: {sum(P) / len(P)}\")\n",
    "    print(f\"Recall: {sum(R) / len(R)}\")\n",
    "    print(f\"F1: {sum(F1) / len(F1)}\")\n",
    "\n",
    "    df = pd.DataFrame({\n",
    "        \"precision\": [sum(P) / len(P)],\n",
    "        \"recall\": [sum(R) / len(R)],\n",
    "        \"f1\": [sum(F1) / len(F1)]\n",
    "    })\n",
    "    return df\n",
    "\n",
    "    "
   ]
  },
  {
   "cell_type": "code",
   "execution_count": 38,
   "id": "d02c339e",
   "metadata": {},
   "outputs": [
    {
     "name": "stdout",
     "output_type": "stream",
     "text": [
      "BertScore con modelo Bio_ClinicalBERT a temperatura 1\n",
      "Precission: 0.872083306312561\n",
      "Recall: 0.8703686594963074\n",
      "F1: 0.8710890412330627\n",
      "BertScore con modelo Bio_ClinicalBERT a temperatura 0.5\n",
      "Precission: 0.838509738445282\n",
      "Recall: 0.837006688117981\n",
      "F1: 0.8376386165618896\n",
      "BertScore con modelo Bio_ClinicalBERT a temperatura 0.1\n",
      "Precission: 0.8701820969581604\n",
      "Recall: 0.8672230839729309\n",
      "F1: 0.8686009645462036\n"
     ]
    },
    {
     "data": {
      "text/html": [
       "<div>\n",
       "<style scoped>\n",
       "    .dataframe tbody tr th:only-of-type {\n",
       "        vertical-align: middle;\n",
       "    }\n",
       "\n",
       "    .dataframe tbody tr th {\n",
       "        vertical-align: top;\n",
       "    }\n",
       "\n",
       "    .dataframe thead th {\n",
       "        text-align: right;\n",
       "    }\n",
       "</style>\n",
       "<table border=\"1\" class=\"dataframe\">\n",
       "  <thead>\n",
       "    <tr style=\"text-align: right;\">\n",
       "      <th></th>\n",
       "      <th>precision</th>\n",
       "      <th>recall</th>\n",
       "      <th>f1</th>\n",
       "    </tr>\n",
       "  </thead>\n",
       "  <tbody>\n",
       "    <tr>\n",
       "      <th>0</th>\n",
       "      <td>tensor(0.8702)</td>\n",
       "      <td>tensor(0.8672)</td>\n",
       "      <td>tensor(0.8686)</td>\n",
       "    </tr>\n",
       "  </tbody>\n",
       "</table>\n",
       "</div>"
      ],
      "text/plain": [
       "        precision          recall              f1\n",
       "0  tensor(0.8702)  tensor(0.8672)  tensor(0.8686)"
      ]
     },
     "execution_count": 38,
     "metadata": {},
     "output_type": "execute_result"
    }
   ],
   "source": [
    "print (\"BertScore con modelo Bio_ClinicalBERT a temperatura 1\")\n",
    "calcular_bertscore_bioclinical(df_gemma_sin_rol_1, df_gemma_con_rol_1)\n",
    "print (\"BertScore con modelo Bio_ClinicalBERT a temperatura 0.5\")\n",
    "calcular_bertscore_bioclinical(df_gemma_sin_rol_0_5, df_gemma_con_rol_0_5)\n",
    "print (\"BertScore con modelo Bio_ClinicalBERT a temperatura 0.1\")\n",
    "calcular_bertscore_bioclinical(df_gemma_sin_rol_0_1, df_gemma_con_rol_0_1)"
   ]
  },
  {
   "cell_type": "markdown",
   "id": "7392e93d",
   "metadata": {},
   "source": [
    "## Medidas de readabilidad y comprensión del texto"
   ]
  },
  {
   "cell_type": "code",
   "execution_count": null,
   "id": "b866fe87",
   "metadata": {},
   "outputs": [],
   "source": [
    "# pip install https://github.com/andreasvc/readability/tarball/master"
   ]
  },
  {
   "cell_type": "code",
   "execution_count": 16,
   "id": "66bd2d23",
   "metadata": {},
   "outputs": [],
   "source": [
    "import re\n",
    "import nltk\n",
    "from nltk.probability import FreqDist\n",
    "from textblob import TextBlob\n",
    "import readability\n",
    "import spacy"
   ]
  },
  {
   "cell_type": "code",
   "execution_count": 39,
   "id": "c7424fb2",
   "metadata": {},
   "outputs": [],
   "source": [
    "def evaluate_prompt(prompt_list,max_rows=5):\n",
    "    # Correctness (basic grammar check with spaCy)\n",
    "\n",
    "    flesh_scores = []\n",
    "    smog_scores = []\n",
    "    dale_scores = []\n",
    "    sentiment_polarity_scores = []\n",
    "    sentiment_subjectivity_scores = []\n",
    "    lexical_diversity_scores = []\n",
    "    lexical_richness_scores = []\n",
    "\n",
    "    for prompt_element in prompt_list[:max_rows]:\n",
    "        prompt = prompt_element['text']\n",
    "\n",
    "        # Clarity (readability score using Readability)\n",
    "        results_r = readability.getmeasures(prompt, lang='en')\n",
    "        flesch_reading_ease = results_r['readability grades']['FleschReadingEase']\n",
    "        flesh_scores.append(flesch_reading_ease)\n",
    "\n",
    "        flesch_reading_ease = results_r['readability grades']['FleschReadingEase']\n",
    "        smog_index = results_r['readability grades']['SMOGIndex']\n",
    "        smog_scores.append(smog_index)\n",
    "\n",
    "\n",
    "        dale_chall_score = results_r['readability grades']['DaleChallIndex']\n",
    "        dale_scores.append(dale_chall_score)\n",
    "\n",
    "        # Engagement (sentiment analysis with TextBlob)\n",
    "        blob = TextBlob(prompt)\n",
    "        sentiment_polarity_scores.append(blob.sentiment.polarity)\n",
    "        sentiment_subjectivity_scores.append(blob.sentiment.subjectivity)\n",
    "\n",
    "        words = prompt.split()\n",
    "        unique_words = set(words)\n",
    "        lexical_diversity = len(unique_words) / len(words) if words else 0\n",
    "        lexical_diversity_scores.append(lexical_diversity)\n",
    "\n",
    "        # Lexical richness (frequency distribution of words)\n",
    "        fdist = FreqDist(words)\n",
    "        lexical_richness = sum(fdist.freq(word) for word in unique_words) / len(unique_words) if unique_words else 0\n",
    "        lexical_richness_scores.append(lexical_richness)\n",
    "\n",
    "    return flesh_scores, smog_scores, dale_scores, sentiment_polarity_scores, sentiment_subjectivity_scores,lexical_diversity_scores,lexical_richness_scores\n",
    "\n",
    "  #'], engagement_scores[\"sentiment_polarity\"], engagement_scores[\"sentiment_subjectivity\"], engagement_scores[\"lexical_diversity\"], engagement_scores[\"lexical_richness\"]"
   ]
  },
  {
   "cell_type": "code",
   "execution_count": 40,
   "id": "f96f13e9",
   "metadata": {},
   "outputs": [],
   "source": [
    "def calcular_metricas_comprension(df):\n",
    "    prompt_list = [{'text': output} for output in df['output']]\n",
    "    flesh_scores, smog_scores, dale_scores, sentiment_polarity_scores, sentiment_subjectivity_scores, lexical_diversity_scores, lexical_richness_scores = evaluate_prompt(prompt_list)\n",
    "\n",
    "    print(\"Flesch Reading Ease Scores:\", sum(flesh_scores) / len(flesh_scores))\n",
    "    print(\"SMOG Index Scores:\", sum(smog_scores) / len(smog_scores))\n",
    "    print(\"Dale-Chall Index Scores:\", sum(dale_scores) / len(dale_scores))\n",
    "    print(\"Sentiment Polarity Scores:\", sum(sentiment_polarity_scores) / len(sentiment_polarity_scores))\n",
    "    print(\"Sentiment Subjectivity Scores:\", sum(sentiment_subjectivity_scores) / len(sentiment_subjectivity_scores))\n",
    "    print(\"Lexical Diversity Scores:\", sum(lexical_diversity_scores) / len(lexical_diversity_scores))\n",
    "    print(\"Lexical Richness Scores:\", sum(lexical_richness_scores) / len(lexical_richness_scores))\n",
    "\n",
    "    df = pd.DataFrame({\n",
    "        \"flesch_reading_ease\": [np.mean(flesh_scores)],\n",
    "        \"smog_index\": [np.mean(smog_scores)],\n",
    "        \"dale_chall_index\": [np.mean(dale_scores)],\n",
    "        \"sentiment_polarity\": [np.mean(sentiment_polarity_scores)],\n",
    "        \"sentiment_subjectivity\": [np.mean(sentiment_subjectivity_scores)],\n",
    "        \"lexical_diversity\": [np.mean(lexical_diversity_scores)],\n",
    "        \"lexical_richness\": [np.mean(lexical_richness_scores)]\n",
    "    })\n",
    "    return df"
   ]
  },
  {
   "cell_type": "code",
   "execution_count": 41,
   "id": "4d8e5cb3",
   "metadata": {},
   "outputs": [
    {
     "name": "stdout",
     "output_type": "stream",
     "text": [
      "Metricas de readabilty y comprensión para sin rol a 1\n",
      "Flesch Reading Ease Scores: 34.22234708982448\n",
      "SMOG Index Scores: 13.058184468534472\n",
      "Dale-Chall Index Scores: 7.898114446416173\n",
      "Sentiment Polarity Scores: 0.022286375661375663\n",
      "Sentiment Subjectivity Scores: 0.3416752645502646\n",
      "Lexical Diversity Scores: 0.7564128854920904\n",
      "Lexical Richness Scores: 0.014400490012946335\n",
      "----------------------------------------------------\n",
      "Metricas de readabilty y comprensión para con rol a 1\n",
      "Flesch Reading Ease Scores: 31.6450007348268\n",
      "SMOG Index Scores: 15.185644137160375\n",
      "Dale-Chall Index Scores: 8.598488592455155\n",
      "Sentiment Polarity Scores: 0.0637936507936508\n",
      "Sentiment Subjectivity Scores: 0.5060899470899471\n",
      "Lexical Diversity Scores: 0.7376177487147453\n",
      "Lexical Richness Scores: 0.014315781683464559\n",
      "----------------------------------------------------\n",
      "Metricas de readabilty y comprensión para sin rol a 0.5\n",
      "Flesch Reading Ease Scores: 35.348670973085504\n",
      "SMOG Index Scores: 13.076315167439983\n",
      "Dale-Chall Index Scores: 7.5471840464458255\n",
      "Sentiment Polarity Scores: 0.030793650793650797\n",
      "Sentiment Subjectivity Scores: 0.36292328042328037\n",
      "Lexical Diversity Scores: 0.72620617232633\n",
      "Lexical Richness Scores: 0.014374741200828156\n",
      "----------------------------------------------------\n",
      "Metricas de readabilty y comprensión para con rol a 0.5\n",
      "Flesch Reading Ease Scores: 40.63598333649142\n",
      "SMOG Index Scores: 12.420231713864512\n",
      "Dale-Chall Index Scores: 7.817201616878313\n",
      "Sentiment Polarity Scores: 0.09137301587301587\n",
      "Sentiment Subjectivity Scores: 0.41159523809523807\n",
      "Lexical Diversity Scores: 0.7362099554267395\n",
      "Lexical Richness Scores: 0.014039925866012826\n",
      "----------------------------------------------------\n",
      "Metricas de readabilty y comprensión para sin rol a 0.1\n",
      "Flesch Reading Ease Scores: 37.81010786390976\n",
      "SMOG Index Scores: 14.065440972729153\n",
      "Dale-Chall Index Scores: 7.411284830961693\n",
      "Sentiment Polarity Scores: 0.013903619528619533\n",
      "Sentiment Subjectivity Scores: 0.3090010221260221\n",
      "Lexical Diversity Scores: 0.6874263705778775\n",
      "Lexical Richness Scores: 0.015186997703788747\n",
      "----------------------------------------------------\n",
      "Metricas de readabilty y comprensión para con rol a 0.1\n",
      "Flesch Reading Ease Scores: 34.11296010780642\n",
      "SMOG Index Scores: 13.563942790429792\n",
      "Dale-Chall Index Scores: 8.029515303898048\n",
      "Sentiment Polarity Scores: 0.05619588744588744\n",
      "Sentiment Subjectivity Scores: 0.3835191197691198\n",
      "Lexical Diversity Scores: 0.7302980110544375\n",
      "Lexical Richness Scores: 0.0148789538001566\n"
     ]
    },
    {
     "data": {
      "text/html": [
       "<div>\n",
       "<style scoped>\n",
       "    .dataframe tbody tr th:only-of-type {\n",
       "        vertical-align: middle;\n",
       "    }\n",
       "\n",
       "    .dataframe tbody tr th {\n",
       "        vertical-align: top;\n",
       "    }\n",
       "\n",
       "    .dataframe thead th {\n",
       "        text-align: right;\n",
       "    }\n",
       "</style>\n",
       "<table border=\"1\" class=\"dataframe\">\n",
       "  <thead>\n",
       "    <tr style=\"text-align: right;\">\n",
       "      <th></th>\n",
       "      <th>flesch_reading_ease</th>\n",
       "      <th>smog_index</th>\n",
       "      <th>dale_chall_index</th>\n",
       "      <th>sentiment_polarity</th>\n",
       "      <th>sentiment_subjectivity</th>\n",
       "      <th>lexical_diversity</th>\n",
       "      <th>lexical_richness</th>\n",
       "    </tr>\n",
       "  </thead>\n",
       "  <tbody>\n",
       "    <tr>\n",
       "      <th>0</th>\n",
       "      <td>34.11296</td>\n",
       "      <td>13.563943</td>\n",
       "      <td>8.029515</td>\n",
       "      <td>0.056196</td>\n",
       "      <td>0.383519</td>\n",
       "      <td>0.730298</td>\n",
       "      <td>0.014879</td>\n",
       "    </tr>\n",
       "  </tbody>\n",
       "</table>\n",
       "</div>"
      ],
      "text/plain": [
       "   flesch_reading_ease  smog_index  dale_chall_index  sentiment_polarity  \\\n",
       "0             34.11296   13.563943          8.029515            0.056196   \n",
       "\n",
       "   sentiment_subjectivity  lexical_diversity  lexical_richness  \n",
       "0                0.383519           0.730298          0.014879  "
      ]
     },
     "execution_count": 41,
     "metadata": {},
     "output_type": "execute_result"
    }
   ],
   "source": [
    "print(\"Metricas de readabilty y comprensión para sin rol a 1\")\n",
    "calcular_metricas_comprension(df_gemma_sin_rol_1)\n",
    "print(\"----------------------------------------------------\")\n",
    "print(\"Metricas de readabilty y comprensión para con rol a 1\")\n",
    "calcular_metricas_comprension(df_gemma_con_rol_1)\n",
    "print(\"----------------------------------------------------\")\n",
    "print(\"Metricas de readabilty y comprensión para sin rol a 0.5\")\n",
    "calcular_metricas_comprension(df_gemma_sin_rol_0_5)\n",
    "print(\"----------------------------------------------------\")\n",
    "print(\"Metricas de readabilty y comprensión para con rol a 0.5\")\n",
    "calcular_metricas_comprension(df_gemma_con_rol_0_5)\n",
    "print(\"----------------------------------------------------\")\n",
    "print(\"Metricas de readabilty y comprensión para sin rol a 0.1\")\n",
    "calcular_metricas_comprension(df_gemma_sin_rol_0_1)\n",
    "print(\"----------------------------------------------------\")\n",
    "print(\"Metricas de readabilty y comprensión para con rol a 0.1\")\n",
    "calcular_metricas_comprension(df_gemma_con_rol_0_1)"
   ]
  },
  {
   "cell_type": "markdown",
   "id": "d5d49669",
   "metadata": {},
   "source": [
    "## Calcular longitud media de los textos"
   ]
  },
  {
   "cell_type": "code",
   "execution_count": 23,
   "id": "cc1d400f",
   "metadata": {},
   "outputs": [],
   "source": [
    "# Calcular longitud media de los textos por palabras\n",
    "def calculate_average_word_count(text_list):\n",
    "    total_words = sum(len(text.split()) for text in text_list)\n",
    "    average_word_count = total_words / len(text_list)\n",
    "    return average_word_count"
   ]
  },
  {
   "cell_type": "code",
   "execution_count": 42,
   "id": "0fd94830",
   "metadata": {},
   "outputs": [],
   "source": [
    "def calcular_longitud_texto_y_respuesta(df):\n",
    "    longitud_textos = calculate_average_word_count(df['input'])\n",
    "    longitud_respuestas = calculate_average_word_count(df['output'])\n",
    "\n",
    "    print(f\"Longitud de los textos: {longitud_textos}\")\n",
    "    print(f\"Longitud de las respuestas: {longitud_respuestas}\")\n",
    "\n",
    "    df = pd.DataFrame({\n",
    "        \"longitud_textos\": [longitud_textos],\n",
    "        \"longitud_respuestas\": [longitud_respuestas]\n",
    "    })\n",
    "    return df"
   ]
  },
  {
   "cell_type": "code",
   "execution_count": 43,
   "id": "cb5214af",
   "metadata": {},
   "outputs": [
    {
     "name": "stdout",
     "output_type": "stream",
     "text": [
      "Longitud textos y respuestas sin rol a 1\n",
      "Longitud de los textos: 1440.46\n",
      "Longitud de las respuestas: 95.02\n",
      "----------------------------------------------------\n",
      "Longitud textos y respuestas con rol a 1\n",
      "Longitud de los textos: 1458.46\n",
      "Longitud de las respuestas: 94.96666666666667\n",
      "----------------------------------------------------\n",
      "Longitud textos y respuestas sin rol a 0.5\n",
      "Longitud de los textos: 1440.46\n",
      "Longitud de las respuestas: 95.31333333333333\n",
      "----------------------------------------------------\n",
      "Longitud textos y respuestas con rol a 0.5\n",
      "Longitud de los textos: 1458.46\n",
      "Longitud de las respuestas: 94.72\n",
      "----------------------------------------------------\n",
      "Longitud textos y respuestas sin rol a 0.1\n",
      "Longitud de los textos: 1440.46\n",
      "Longitud de las respuestas: 95.18666666666667\n",
      "----------------------------------------------------\n",
      "Longitud textos y respuestas con rol a 0.1\n",
      "Longitud de los textos: 1458.46\n",
      "Longitud de las respuestas: 94.60666666666667\n"
     ]
    },
    {
     "data": {
      "text/html": [
       "<div>\n",
       "<style scoped>\n",
       "    .dataframe tbody tr th:only-of-type {\n",
       "        vertical-align: middle;\n",
       "    }\n",
       "\n",
       "    .dataframe tbody tr th {\n",
       "        vertical-align: top;\n",
       "    }\n",
       "\n",
       "    .dataframe thead th {\n",
       "        text-align: right;\n",
       "    }\n",
       "</style>\n",
       "<table border=\"1\" class=\"dataframe\">\n",
       "  <thead>\n",
       "    <tr style=\"text-align: right;\">\n",
       "      <th></th>\n",
       "      <th>longitud_textos</th>\n",
       "      <th>longitud_respuestas</th>\n",
       "    </tr>\n",
       "  </thead>\n",
       "  <tbody>\n",
       "    <tr>\n",
       "      <th>0</th>\n",
       "      <td>1458.46</td>\n",
       "      <td>94.606667</td>\n",
       "    </tr>\n",
       "  </tbody>\n",
       "</table>\n",
       "</div>"
      ],
      "text/plain": [
       "   longitud_textos  longitud_respuestas\n",
       "0          1458.46            94.606667"
      ]
     },
     "execution_count": 43,
     "metadata": {},
     "output_type": "execute_result"
    }
   ],
   "source": [
    "print(\"Longitud textos y respuestas sin rol a 1\")\n",
    "calcular_longitud_texto_y_respuesta(df_gemma_sin_rol_1)\n",
    "print(\"----------------------------------------------------\")\n",
    "print(\"Longitud textos y respuestas con rol a 1\")\n",
    "calcular_longitud_texto_y_respuesta(df_gemma_con_rol_1)\n",
    "print(\"----------------------------------------------------\")\n",
    "print(\"Longitud textos y respuestas sin rol a 0.5\")\n",
    "calcular_longitud_texto_y_respuesta(df_gemma_sin_rol_0_5)\n",
    "print(\"----------------------------------------------------\")\n",
    "print(\"Longitud textos y respuestas con rol a 0.5\")\n",
    "calcular_longitud_texto_y_respuesta(df_gemma_con_rol_0_5)\n",
    "print(\"----------------------------------------------------\")\n",
    "print(\"Longitud textos y respuestas sin rol a 0.1\")\n",
    "calcular_longitud_texto_y_respuesta(df_gemma_sin_rol_0_1)\n",
    "print(\"----------------------------------------------------\")\n",
    "print(\"Longitud textos y respuestas con rol a 0.1\")\n",
    "calcular_longitud_texto_y_respuesta(df_gemma_con_rol_0_1)"
   ]
  },
  {
   "cell_type": "markdown",
   "id": "becfba10",
   "metadata": {},
   "source": [
    "# Pruebas llama"
   ]
  },
  {
   "cell_type": "markdown",
   "id": "77b043c1",
   "metadata": {},
   "source": [
    "## Calidad de generación del texto: BLEU"
   ]
  },
  {
   "cell_type": "code",
   "execution_count": 44,
   "id": "18107a11",
   "metadata": {},
   "outputs": [
    {
     "name": "stdout",
     "output_type": "stream",
     "text": [
      "Llama sin rol 1\n",
      "{'bleu': 2.756384901940513e-07, 'precisions': [0.7622970680881996, 0.260678545277032, 0.10508974674207032, 0.061332672776814465], 'brevity_penalty': 1.4570331028759703e-06, 'length_ratio': 0.06925635423274297, 'translation_length': 20635, 'reference_length': 297951}\n",
      "Llama con rol 1\n",
      "{'bleu': 3.219687978006532e-07, 'precisions': [0.8143569393569393, 0.43202091664103354, 0.2692705104360405, 0.20207226908257836], 'brevity_penalty': 8.655855826818002e-07, 'length_ratio': 0.06684554720099574, 'translation_length': 19656, 'reference_length': 294051}\n",
      "Llama sin rol 0.5\n",
      "{'bleu': 5.7681761830072085e-08, 'precisions': [0.8277514691618646, 0.4618748920987512, 0.3053926975097231, 0.24231422380980266], 'brevity_penalty': 1.4064459583071183e-07, 'length_ratio': 0.059605306562467056, 'translation_length': 17527, 'reference_length': 294051}\n",
      "Llama con rol 0.5\n",
      "{'bleu': 3.645467783442035e-07, 'precisions': [0.83871459805766, 0.4749705385048932, 0.3132131977074405, 0.24384659416141957], 'brevity_penalty': 8.728585274267961e-07, 'length_ratio': 0.06688295567775658, 'translation_length': 19667, 'reference_length': 294051}\n",
      "Llama sin rol 0.1\n",
      "{'bleu': 7.468615026644859e-08, 'precisions': [0.8104764558372806, 0.42028659735880863, 0.2551431000283366, 0.19165475850242927], 'brevity_penalty': 2.0789437052386512e-07, 'length_ratio': 0.061026828679378746, 'translation_length': 17945, 'reference_length': 294051}\n",
      "Llama con rol 0.1\n",
      "{'bleu': 2.1195670924680322e-07, 'precisions': [0.7940825949531064, 0.3870698208783748, 0.22480130533185957, 0.1574088811077511], 'brevity_penalty': 6.5633627201479e-07, 'length_ratio': 0.06563147209157595, 'translation_length': 19299, 'reference_length': 294051}\n"
=======
      "Precision: 0.9005568917592367\n",
      "Recall: 0.9007785137494405\n",
      "F1: 0.9005949890613556\n"
>>>>>>> 951cdb3d21a1844a48b11216f7612e34d40cc59b
     ]
    }
   ],
   "source": [
<<<<<<< HEAD
    "df_llama_sin_rol_1 = pd.read_csv(\"./analysis/llama_sin_rol_1.csv\")\n",
    "df_llama_con_rol_1 = pd.read_csv(\"./analysis/llama_con_rol_1.csv\")\n",
    "df_llama_sin_rol_0_5 = pd.read_csv(\"./analysis/llama_sin_rol_0_5.csv\")\n",
    "df_llama_con_rol_0_5 = pd.read_csv(\"./analysis/llama_con_rol_0_5.csv\")\n",
    "df_llama_sin_rol_0_1 = pd.read_csv(\"./analysis/llama_sin_rol_0_1.csv\")\n",
    "df_llama_con_rol_0_1 = pd.read_csv(\"./analysis/llama_con_rol_0_1.csv\")\n",
    "\n",
    "\n",
    "print(\"Llama sin rol 1\")\n",
    "calcular_bleu(df_llama_sin_rol_1)\n",
    "print(\"Llama con rol 1\")\n",
    "calcular_bleu(df_llama_con_rol_1)\n",
    "print(\"Llama sin rol 0.5\")\n",
    "calcular_bleu(df_llama_sin_rol_0_5)\n",
    "print(\"Llama con rol 0.5\")\n",
    "calcular_bleu(df_llama_con_rol_0_5)\n",
    "print(\"Llama sin rol 0.1\")\n",
    "calcular_bleu(df_llama_sin_rol_0_1)\n",
    "print(\"Llama con rol 0.1\")\n",
    "calcular_bleu(df_llama_con_rol_0_1)"
   ]
  },
  {
   "cell_type": "markdown",
   "id": "9a132e38",
   "metadata": {},
   "source": [
    "## Comparación entre pruebas con rol y sin rol a diferentes temperaturas"
   ]
  },
  {
   "cell_type": "markdown",
   "id": "c3115562",
   "metadata": {},
   "source": [
    "### Bert por defecto"
   ]
  },
  {
   "cell_type": "code",
   "execution_count": 45,
   "id": "0daff33f",
   "metadata": {},
   "outputs": [
    {
     "name": "stdout",
     "output_type": "stream",
     "text": [
      "BertScore por defecto a temperatura 1\n",
      "Precision: 0.8054464050134023\n",
      "Recall: 0.8010353072484334\n",
      "F1: 0.8030827442804972\n",
      "BertScore por defecto a temperatura 0.5\n",
      "Precision: 0.7990198000272115\n",
      "Recall: 0.8010387722651163\n",
      "F1: 0.7997263622283936\n",
      "BertScore por defecto a temperatura 0.1\n",
      "Precision: 0.7932461086908976\n",
      "Recall: 0.7972064991792043\n",
      "F1: 0.794953336318334\n"
     ]
    },
    {
     "data": {
      "text/html": [
       "<div>\n",
       "<style scoped>\n",
       "    .dataframe tbody tr th:only-of-type {\n",
       "        vertical-align: middle;\n",
       "    }\n",
       "\n",
       "    .dataframe tbody tr th {\n",
       "        vertical-align: top;\n",
       "    }\n",
       "\n",
       "    .dataframe thead th {\n",
       "        text-align: right;\n",
       "    }\n",
       "</style>\n",
       "<table border=\"1\" class=\"dataframe\">\n",
       "  <thead>\n",
       "    <tr style=\"text-align: right;\">\n",
       "      <th></th>\n",
       "      <th>precision</th>\n",
       "      <th>recall</th>\n",
       "      <th>f1</th>\n",
       "    </tr>\n",
       "  </thead>\n",
       "  <tbody>\n",
       "    <tr>\n",
       "      <th>0</th>\n",
       "      <td>0.793246</td>\n",
       "      <td>0.797206</td>\n",
       "      <td>0.794953</td>\n",
       "    </tr>\n",
       "  </tbody>\n",
       "</table>\n",
       "</div>"
      ],
      "text/plain": [
       "   precision    recall        f1\n",
       "0   0.793246  0.797206  0.794953"
      ]
     },
     "execution_count": 45,
     "metadata": {},
     "output_type": "execute_result"
    }
   ],
   "source": [
    "print (\"BertScore por defecto a temperatura 1\")\n",
    "calcular_bertscore_defecto(df_llama_sin_rol_1, df_llama_con_rol_1)\n",
    "print (\"BertScore por defecto a temperatura 0.5\")\n",
    "calcular_bertscore_defecto(df_llama_sin_rol_0_5, df_llama_con_rol_0_5)\n",
    "print (\"BertScore por defecto a temperatura 0.1\")\n",
    "calcular_bertscore_defecto(df_llama_sin_rol_0_1, df_llama_con_rol_0_1)"
   ]
  },
  {
   "cell_type": "markdown",
   "id": "ad653e75",
   "metadata": {},
   "source": [
    "### Bert utilizando modelo Bio_ClinicalBERT"
   ]
  },
  {
   "cell_type": "code",
   "execution_count": 46,
   "id": "7c81e735",
   "metadata": {},
   "outputs": [
    {
     "name": "stdout",
     "output_type": "stream",
     "text": [
      "BertScore con modelo Bio_ClinicalBERT a temperatura 1\n",
      "Precission: 0.7426342368125916\n",
      "Recall: 0.7288378477096558\n",
      "F1: 0.7354907393455505\n",
      "BertScore con modelo Bio_ClinicalBERT a temperatura 0.5\n",
      "Precission: 0.7294520139694214\n",
      "Recall: 0.7297423481941223\n",
      "F1: 0.7293215394020081\n",
      "BertScore con modelo Bio_ClinicalBERT a temperatura 0.1\n",
      "Precission: 0.723676323890686\n",
      "Recall: 0.7207764983177185\n",
      "F1: 0.7219652533531189\n"
     ]
    },
    {
     "data": {
      "text/html": [
       "<div>\n",
       "<style scoped>\n",
       "    .dataframe tbody tr th:only-of-type {\n",
       "        vertical-align: middle;\n",
       "    }\n",
       "\n",
       "    .dataframe tbody tr th {\n",
       "        vertical-align: top;\n",
       "    }\n",
       "\n",
       "    .dataframe thead th {\n",
       "        text-align: right;\n",
       "    }\n",
       "</style>\n",
       "<table border=\"1\" class=\"dataframe\">\n",
       "  <thead>\n",
       "    <tr style=\"text-align: right;\">\n",
       "      <th></th>\n",
       "      <th>precision</th>\n",
       "      <th>recall</th>\n",
       "      <th>f1</th>\n",
       "    </tr>\n",
       "  </thead>\n",
       "  <tbody>\n",
       "    <tr>\n",
       "      <th>0</th>\n",
       "      <td>tensor(0.7237)</td>\n",
       "      <td>tensor(0.7208)</td>\n",
       "      <td>tensor(0.7220)</td>\n",
       "    </tr>\n",
       "  </tbody>\n",
       "</table>\n",
       "</div>"
      ],
      "text/plain": [
       "        precision          recall              f1\n",
       "0  tensor(0.7237)  tensor(0.7208)  tensor(0.7220)"
      ]
     },
     "execution_count": 46,
     "metadata": {},
     "output_type": "execute_result"
    }
   ],
   "source": [
    "print (\"BertScore con modelo Bio_ClinicalBERT a temperatura 1\")\n",
    "calcular_bertscore_bioclinical(df_llama_sin_rol_1, df_llama_con_rol_1)\n",
    "print (\"BertScore con modelo Bio_ClinicalBERT a temperatura 0.5\")\n",
    "calcular_bertscore_bioclinical(df_llama_sin_rol_0_5, df_llama_con_rol_0_5)\n",
    "print (\"BertScore con modelo Bio_ClinicalBERT a temperatura 0.1\")\n",
    "calcular_bertscore_bioclinical(df_llama_sin_rol_0_1, df_llama_con_rol_0_1)"
   ]
  },
  {
   "cell_type": "markdown",
   "id": "ef331ae4",
   "metadata": {},
   "source": [
    "## Medidas de readabilidad y comprensión del texto"
   ]
  },
  {
   "cell_type": "code",
   "execution_count": 47,
   "id": "b771f70a",
   "metadata": {},
   "outputs": [
    {
     "name": "stdout",
     "output_type": "stream",
     "text": [
      "Metricas de readabilty y comprensión para sin rol a 1\n",
      "Flesch Reading Ease Scores: 35.73721710962494\n",
      "SMOG Index Scores: 13.092083281269657\n",
      "Dale-Chall Index Scores: 7.97569182076518\n",
      "Sentiment Polarity Scores: 0.0727435064935065\n",
      "Sentiment Subjectivity Scores: 0.37562229437229433\n",
      "Lexical Diversity Scores: 0.7285361261743131\n",
      "Lexical Richness Scores: 0.015097966041170913\n",
      "----------------------------------------------------\n",
      "Metricas de readabilty y comprensión para con rol a 1\n",
      "Flesch Reading Ease Scores: 39.55900010851506\n",
      "SMOG Index Scores: 10.179524572218234\n",
      "Dale-Chall Index Scores: 6.11039722890901\n",
      "Sentiment Polarity Scores: -0.027253787878787888\n",
      "Sentiment Subjectivity Scores: 0.19066693722943723\n",
      "Lexical Diversity Scores: 0.7522334319075863\n",
      "Lexical Richness Scores: 0.015713019960498235\n",
      "----------------------------------------------------\n",
      "Metricas de readabilty y comprensión para sin rol a 0.5\n",
      "Flesch Reading Ease Scores: 39.230504234887384\n",
      "SMOG Index Scores: 13.87000152930687\n",
      "Dale-Chall Index Scores: 8.387172513944526\n",
      "Sentiment Polarity Scores: 0.09628184910327767\n",
      "Sentiment Subjectivity Scores: 0.40797990105132964\n",
      "Lexical Diversity Scores: 0.7099723558338954\n",
      "Lexical Richness Scores: 0.01470271011134242\n",
      "----------------------------------------------------\n",
      "Metricas de readabilty y comprensión para con rol a 0.5\n",
      "Flesch Reading Ease Scores: 51.78394989194525\n",
      "SMOG Index Scores: 8.07984458669917\n",
      "Dale-Chall Index Scores: 6.505649626560993\n",
      "Sentiment Polarity Scores: -0.0439318783068783\n",
      "Sentiment Subjectivity Scores: 0.19711640211640213\n",
      "Lexical Diversity Scores: 0.7822707749766573\n",
      "Lexical Richness Scores: 0.01755643525485833\n",
      "----------------------------------------------------\n",
      "Metricas de readabilty y comprensión para sin rol a 0.1\n",
      "Flesch Reading Ease Scores: 40.72821886533294\n",
      "SMOG Index Scores: 11.92250093511792\n",
      "Dale-Chall Index Scores: 7.84166123482085\n",
      "Sentiment Polarity Scores: -0.007468253968253971\n",
      "Sentiment Subjectivity Scores: 0.2603253968253968\n",
      "Lexical Diversity Scores: 0.7558297489854503\n",
      "Lexical Richness Scores: 0.013890230927902151\n",
      "----------------------------------------------------\n",
      "Metricas de readabilty y comprensión para con rol a 0.1\n",
      "Flesch Reading Ease Scores: 56.3908148174264\n",
      "SMOG Index Scores: 9.460258327572426\n",
      "Dale-Chall Index Scores: 6.876006065718384\n",
      "Sentiment Polarity Scores: -0.020694444444444446\n",
      "Sentiment Subjectivity Scores: 0.24289562289562286\n",
      "Lexical Diversity Scores: 0.8218837305403847\n",
      "Lexical Richness Scores: 0.015099371138785378\n"
     ]
    },
    {
     "data": {
      "text/html": [
       "<div>\n",
       "<style scoped>\n",
       "    .dataframe tbody tr th:only-of-type {\n",
       "        vertical-align: middle;\n",
       "    }\n",
       "\n",
       "    .dataframe tbody tr th {\n",
       "        vertical-align: top;\n",
       "    }\n",
       "\n",
       "    .dataframe thead th {\n",
       "        text-align: right;\n",
       "    }\n",
       "</style>\n",
       "<table border=\"1\" class=\"dataframe\">\n",
       "  <thead>\n",
       "    <tr style=\"text-align: right;\">\n",
       "      <th></th>\n",
       "      <th>flesch_reading_ease</th>\n",
       "      <th>smog_index</th>\n",
       "      <th>dale_chall_index</th>\n",
       "      <th>sentiment_polarity</th>\n",
       "      <th>sentiment_subjectivity</th>\n",
       "      <th>lexical_diversity</th>\n",
       "      <th>lexical_richness</th>\n",
       "    </tr>\n",
       "  </thead>\n",
       "  <tbody>\n",
       "    <tr>\n",
       "      <th>0</th>\n",
       "      <td>56.390815</td>\n",
       "      <td>9.460258</td>\n",
       "      <td>6.876006</td>\n",
       "      <td>-0.020694</td>\n",
       "      <td>0.242896</td>\n",
       "      <td>0.821884</td>\n",
       "      <td>0.015099</td>\n",
       "    </tr>\n",
       "  </tbody>\n",
       "</table>\n",
       "</div>"
      ],
      "text/plain": [
       "   flesch_reading_ease  smog_index  dale_chall_index  sentiment_polarity  \\\n",
       "0            56.390815    9.460258          6.876006           -0.020694   \n",
       "\n",
       "   sentiment_subjectivity  lexical_diversity  lexical_richness  \n",
       "0                0.242896           0.821884          0.015099  "
      ]
     },
     "execution_count": 47,
     "metadata": {},
     "output_type": "execute_result"
    }
   ],
   "source": [
    "print(\"Metricas de readabilty y comprensión para sin rol a 1\")\n",
    "calcular_metricas_comprension(df_llama_sin_rol_1)\n",
    "print(\"----------------------------------------------------\")\n",
    "print(\"Metricas de readabilty y comprensión para con rol a 1\")\n",
    "calcular_metricas_comprension(df_llama_con_rol_1)\n",
    "print(\"----------------------------------------------------\")\n",
    "print(\"Metricas de readabilty y comprensión para sin rol a 0.5\")\n",
    "calcular_metricas_comprension(df_llama_sin_rol_0_5)\n",
    "print(\"----------------------------------------------------\")\n",
    "print(\"Metricas de readabilty y comprensión para con rol a 0.5\")\n",
    "calcular_metricas_comprension(df_llama_con_rol_0_5)\n",
    "print(\"----------------------------------------------------\")\n",
    "print(\"Metricas de readabilty y comprensión para sin rol a 0.1\")\n",
    "calcular_metricas_comprension(df_llama_sin_rol_0_1)\n",
    "print(\"----------------------------------------------------\")\n",
    "print(\"Metricas de readabilty y comprensión para con rol a 0.1\")\n",
    "calcular_metricas_comprension(df_llama_con_rol_0_1)"
   ]
  },
  {
   "cell_type": "markdown",
   "id": "9addc8a5",
   "metadata": {},
   "source": [
    "## Calcular longitud media de los textos"
   ]
  },
  {
   "cell_type": "code",
   "execution_count": 48,
   "id": "44d83f6a",
   "metadata": {},
   "outputs": [
    {
     "name": "stdout",
     "output_type": "stream",
     "text": [
      "Longitud textos y respuestas sin rol a 1\n",
      "Longitud de los textos: 1440.46\n",
      "Longitud de las respuestas: 95.52\n",
      "----------------------------------------------------\n",
      "Longitud textos y respuestas con rol a 1\n",
      "Longitud de los textos: 1438.46\n",
      "Longitud de las respuestas: 80.43333333333334\n",
      "----------------------------------------------------\n",
      "Longitud textos y respuestas sin rol a 0.5\n",
      "Longitud de los textos: 1438.46\n",
      "Longitud de las respuestas: 85.68666666666667\n",
      "----------------------------------------------------\n",
      "Longitud textos y respuestas con rol a 0.5\n",
      "Longitud de los textos: 1438.46\n",
      "Longitud de las respuestas: 79.17333333333333\n",
      "----------------------------------------------------\n",
      "Longitud textos y respuestas sin rol a 0.1\n",
      "Longitud de los textos: 1438.46\n",
      "Longitud de las respuestas: 87.4\n",
      "----------------------------------------------------\n",
      "Longitud textos y respuestas con rol a 0.1\n",
      "Longitud de los textos: 1438.46\n",
      "Longitud de las respuestas: 81.4\n"
     ]
    },
    {
     "data": {
      "text/html": [
       "<div>\n",
       "<style scoped>\n",
       "    .dataframe tbody tr th:only-of-type {\n",
       "        vertical-align: middle;\n",
       "    }\n",
       "\n",
       "    .dataframe tbody tr th {\n",
       "        vertical-align: top;\n",
       "    }\n",
       "\n",
       "    .dataframe thead th {\n",
       "        text-align: right;\n",
       "    }\n",
       "</style>\n",
       "<table border=\"1\" class=\"dataframe\">\n",
       "  <thead>\n",
       "    <tr style=\"text-align: right;\">\n",
       "      <th></th>\n",
       "      <th>longitud_textos</th>\n",
       "      <th>longitud_respuestas</th>\n",
       "    </tr>\n",
       "  </thead>\n",
       "  <tbody>\n",
       "    <tr>\n",
       "      <th>0</th>\n",
       "      <td>1438.46</td>\n",
       "      <td>81.4</td>\n",
       "    </tr>\n",
       "  </tbody>\n",
       "</table>\n",
       "</div>"
      ],
      "text/plain": [
       "   longitud_textos  longitud_respuestas\n",
       "0          1438.46                 81.4"
      ]
     },
     "execution_count": 48,
     "metadata": {},
     "output_type": "execute_result"
    }
   ],
   "source": [
    "print(\"Longitud textos y respuestas sin rol a 1\")\n",
    "calcular_longitud_texto_y_respuesta(df_llama_sin_rol_1)\n",
    "print(\"----------------------------------------------------\")\n",
    "print(\"Longitud textos y respuestas con rol a 1\")\n",
    "calcular_longitud_texto_y_respuesta(df_llama_con_rol_1)\n",
    "print(\"----------------------------------------------------\")\n",
    "print(\"Longitud textos y respuestas sin rol a 0.5\")\n",
    "calcular_longitud_texto_y_respuesta(df_llama_sin_rol_0_5)\n",
    "print(\"----------------------------------------------------\")\n",
    "print(\"Longitud textos y respuestas con rol a 0.5\")\n",
    "calcular_longitud_texto_y_respuesta(df_llama_con_rol_0_5)\n",
    "print(\"----------------------------------------------------\")\n",
    "print(\"Longitud textos y respuestas sin rol a 0.1\")\n",
    "calcular_longitud_texto_y_respuesta(df_llama_sin_rol_0_1)\n",
    "print(\"----------------------------------------------------\")\n",
    "print(\"Longitud textos y respuestas con rol a 0.1\")\n",
    "calcular_longitud_texto_y_respuesta(df_llama_con_rol_0_1)"
=======
    "# Consultar diccionario de resultados\n",
    "print(\"Precision:\", sum(results[\"precision\"]) / len(results[\"precision\"]))\n",
    "print(\"Recall:\", sum(results[\"recall\"]) / len(results[\"recall\"]))\n",
    "print(\"F1:\", sum(results[\"f1\"]) / len(results[\"f1\"]))"
>>>>>>> 951cdb3d21a1844a48b11216f7612e34d40cc59b
   ]
  }
 ],
 "metadata": {
  "kernelspec": {
   "display_name": "Python 3",
   "language": "python",
   "name": "python3"
  },
  "language_info": {
   "codemirror_mode": {
    "name": "ipython",
    "version": 3
   },
   "file_extension": ".py",
   "mimetype": "text/x-python",
   "name": "python",
   "nbconvert_exporter": "python",
   "pygments_lexer": "ipython3",
   "version": "3.10.12"
  }
 },
 "nbformat": 4,
 "nbformat_minor": 5
}
