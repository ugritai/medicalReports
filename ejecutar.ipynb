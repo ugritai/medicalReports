{
 "cells": [
  {
   "cell_type": "code",
   "execution_count": null,
   "metadata": {},
   "outputs": [],
   "source": [
    "import os\n",
    "import pandas as pd\n",
    "#import matplotlib.pyplot as plt\n",
    "#import seaborn as sns\n",
    "#import dask.dataframe as dd"
   ]
  },
  {
   "cell_type": "code",
   "execution_count": null,
   "metadata": {},
   "outputs": [],
   "source": [
    "# CARGAR DATOS EN SUBCONJUNTOS\n",
    "# Ruta principal donde están las carpetas con los CSV\n",
    "ruta_principal = r\"/home/raulmartinez/medicalReports/mimic-iv-3.1\"\n",
    "\n",
    "# Función para leer archivos y dividirlo en dos subconjuntos\n",
    "def cargar_y_dividir_datos(ruta_modulo):\n",
    "    archivos = [archivo for archivo in os.listdir(ruta_modulo) if archivo.endswith(\".gz\")]\n",
    "    total_archivos = len(archivos)\n",
    "    tam_subconjunto = total_archivos // 4\n",
    "\n",
    "    for i, archivo in enumerate(archivos):\n",
    "        ruta_gz = os.path.join(ruta_modulo, archivo)\n",
    "        nombre_tabla = archivo.replace(\".csv.gz\", \"\")  # Nombre de la tabla sin la extensión\n",
    "\n",
    "        if i < tam_subconjunto:\n",
    "            parte = \"subconjunto1\"\n",
    "        elif i < 2*tam_subconjunto:\n",
    "            parte = \"subconjunto2\"\n",
    "        elif i < 3*tam_subconjunto:\n",
    "            parte = \"subconjunto3\"\n",
    "        else:\n",
    "            parte = \"subconjunto4\"\n",
    "        \n",
    "        print(f\"Procesando: {nombre_tabla} ({parte})\")\n",
    "        \n",
    "        df = pd.read_csv(ruta_gz, compression=\"gzip\", low_memory=False)\n",
    "        df.to_csv(f\"datasets/icu/{parte}_{nombre_tabla}.csv\", index=False)\n",
    "        print(f\"Guardado: {parte}_{nombre_tabla}.csv ({df.shape[0]} filas)\")\n",
    "\n",
    "# Cargar datos de hosp\n",
    "ruta_icu = os.path.join(ruta_principal, \"icu\")\n",
    "print (\"Cargando datos de icu...\")\n",
    "cargar_y_dividir_datos(ruta_icu)"
   ]
  }
 ],
 "metadata": {
  "language_info": {
   "name": "python"
  }
 },
 "nbformat": 4,
 "nbformat_minor": 2
}
