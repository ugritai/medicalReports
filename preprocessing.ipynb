{
 "cells": [
  {
   "cell_type": "code",
   "execution_count": 11,
   "metadata": {},
   "outputs": [],
   "source": [
    "import os\n",
    "import pandas as pd"
   ]
  },
  {
   "cell_type": "code",
   "execution_count": 17,
   "metadata": {},
   "outputs": [
    {
     "name": "stdout",
     "output_type": "stream",
     "text": [
      "Cargando datos de hosp...\n",
      "Cargado: admissions (275 filas)\n",
      "Cargado: diagnoses_icd (4506 filas)\n",
      "Cargado: drgcodes (454 filas)\n",
      "Cargado: d_hcpcs (89200 filas)\n",
      "Cargado: d_icd_diagnoses (109775 filas)\n",
      "Cargado: d_icd_procedures (85257 filas)\n",
      "Cargado: d_labitems (1622 filas)\n",
      "Cargado: emar (35835 filas)\n",
      "Cargado: emar_detail (72018 filas)\n",
      "Cargado: hcpcsevents (61 filas)\n",
      "Cargado: labevents (107727 filas)\n",
      "Cargado: microbiologyevents (2899 filas)\n",
      "Cargado: omr (2964 filas)\n",
      "Cargado: patients (100 filas)\n",
      "Cargado: pharmacy (15306 filas)\n",
      "Cargado: poe (45154 filas)\n",
      "Cargado: poe_detail (3795 filas)\n",
      "Cargado: prescriptions (18087 filas)\n",
      "Cargado: procedures_icd (722 filas)\n",
      "Cargado: provider (40508 filas)\n",
      "Cargado: services (319 filas)\n",
      "Cargado: transfers (1190 filas)\n",
      "Cargando datos de icu...\n",
      "Cargado: caregiver (15468 filas)\n",
      "Cargado: chartevents (668862 filas)\n",
      "Cargado: datetimeevents (15280 filas)\n",
      "Cargado: d_items (4014 filas)\n",
      "Cargado: icustays (140 filas)\n",
      "Cargado: ingredientevents (25728 filas)\n",
      "Cargado: inputevents (20404 filas)\n",
      "Cargado: outputevents (9362 filas)\n",
      "Cargado: procedureevents (1468 filas)\n"
     ]
    }
   ],
   "source": [
    "# Ruta principal donde están las carpetas con los CSV\n",
    "ruta_principal = r\"C:\\Users\\raulm\\Documents\\TFG\\medicalReports\\mimic-iv-clinical-database-demo-2.2\"\n",
    "\n",
    "# Diccionario para almacenar los DataFrames de cada módulo\n",
    "hosp_data = {}\n",
    "icu_data = {}\n",
    "\n",
    "# Función para leer archivos comprimidos y almacenarlos en un diccionario\n",
    "def cargar_datos(ruta_modulo, diccionario):\n",
    "    for archivo in os.listdir(ruta_modulo):\n",
    "        # Buscar archivos gz en la carpeta\n",
    "        if archivo.endswith(\".gz\"):\n",
    "            ruta_gz = os.path.join(ruta_modulo, archivo)\n",
    "            nombre_tabla = archivo.replace(\".csv.gz\", \"\")  # Nombre de la tabla sin la extensión\n",
    "            df = pd.read_csv(ruta_gz, compression=\"gzip\", low_memory=False)\n",
    "            diccionario[nombre_tabla] = df\n",
    "            print(f\"Cargado: {nombre_tabla} ({df.shape[0]} filas)\")\n",
    "\n",
    "# Cargar datos de hosp\n",
    "ruta_hosp = os.path.join(ruta_principal, \"hosp\")\n",
    "print (\"Cargando datos de hosp...\")\n",
    "cargar_datos(ruta_hosp, hosp_data)\n",
    "\n",
    "# Cargar datos de icu\n",
    "ruta_icu = os.path.join(ruta_principal, \"icu\")\n",
    "print (\"Cargando datos de icu...\")\n",
    "cargar_datos(ruta_icu, icu_data)"
   ]
  },
  {
   "cell_type": "code",
   "execution_count": null,
   "metadata": {},
   "outputs": [
    {
     "name": "stdout",
     "output_type": "stream",
     "text": [
      "Advertencia: d_hcpcs no tiene 'subject_id'.\n",
      "Advertencia: d_icd_diagnoses no tiene 'subject_id'.\n",
      "Advertencia: d_icd_procedures no tiene 'subject_id'.\n",
      "Advertencia: d_labitems no tiene 'subject_id'.\n",
      "Advertencia: provider no tiene 'subject_id'.\n",
      "Dataset hosp unificado guardado exitosamente.\n"
     ]
    }
   ],
   "source": [
    "df_hosp = []\n",
    "# Recorrer los archivos de hosp que contengan subject_id y concatenarlos en un df nuevo\n",
    "for archivo, df in hosp_data.items():\n",
    "    if 'subject_id' in df.columns:\n",
    "        df_hosp.append(df)\n",
    "    else:\n",
    "        print(f\"Advertencia: {archivo} no tiene 'subject_id'.\")\n",
    "\n",
    "\n",
    "if df_hosp:\n",
    "    hosp_dataset = pd.concat(df_hosp, ignore_index=True)\n",
    "    hosp_dataset.to_csv(\"hosp_dataset.csv\", index=False)\n",
    "    print(\"Dataset hosp unificado guardado exitosamente.\")\n",
    "else:\n",
    "    print(\"No se encontraron archivos válidos para unificar.\")\n"
   ]
  },
  {
   "cell_type": "code",
   "execution_count": null,
   "metadata": {},
   "outputs": [
    {
     "name": "stdout",
     "output_type": "stream",
     "text": [
      "Advertencia: caregiver no tiene 'subject_id'.\n",
      "Advertencia: d_items no tiene 'subject_id'.\n",
      "Dataset icu unificado guardado exitosamente.\n"
     ]
    }
   ],
   "source": [
    "df_icu = []\n",
    "# Recorrer los archivos de icu que contengan subject_id y concatenarlos en un df nuevo\n",
    "for archivo, df in icu_data.items():\n",
    "    if 'subject_id' in df.columns:\n",
    "        df_icu.append(df)\n",
    "    else:\n",
    "        print(f\"Advertencia: {archivo} no tiene 'subject_id'.\")\n",
    "\n",
    "\n",
    "if df_icu:\n",
    "    icu_dataset = pd.concat(df_icu, ignore_index=True)\n",
    "    icu_dataset.to_csv(\"icu_dataset.csv\", index=False)\n",
    "    print(\"Dataset icu unificado guardado exitosamente.\")\n",
    "else:\n",
    "    print(\"No se encontraron archivos válidos para unificar.\")"
   ]
  },
  {
   "cell_type": "code",
   "execution_count": 23,
   "metadata": {},
   "outputs": [
    {
     "name": "stdout",
     "output_type": "stream",
     "text": [
      "Dataset unificado guardado exitosamente.\n"
     ]
    }
   ],
   "source": [
    "# Unir todos los DataFrames en uno solo\n",
    "df_final = pd.concat([hosp_dataset, icu_dataset], ignore_index=True)\n",
    "\n",
    "# Guardar el dataset unificado\n",
    "df_final.to_csv(\"dataset_unificado.csv\", index=False)\n",
    "\n",
    "print(\"Dataset unificado guardado exitosamente.\")"
   ]
  }
 ],
 "metadata": {
  "kernelspec": {
   "display_name": "Python 3",
   "language": "python",
   "name": "python3"
  },
  "language_info": {
   "codemirror_mode": {
    "name": "ipython",
    "version": 3
   },
   "file_extension": ".py",
   "mimetype": "text/x-python",
   "name": "python",
   "nbconvert_exporter": "python",
   "pygments_lexer": "ipython3",
   "version": "3.12.9"
  }
 },
 "nbformat": 4,
 "nbformat_minor": 2
}
